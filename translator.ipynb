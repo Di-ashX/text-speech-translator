{
 "cells": [
  {
   "cell_type": "code",
   "execution_count": 4,
   "metadata": {},
   "outputs": [
    {
     "name": "stdout",
     "output_type": "stream",
     "text": [
      "Collecting package metadata (current_repodata.json): ...working... done\n",
      "Solving environment: ...working... done\n",
      "\n",
      "## Package Plan ##\n",
      "\n",
      "  environment location: C:\\Users\\Ashutosh\\anaconda3\n",
      "\n",
      "  added / updated specs:\n",
      "    - pyaudio\n",
      "\n",
      "\n",
      "The following packages will be downloaded:\n",
      "\n",
      "    package                    |            build\n",
      "    ---------------------------|-----------------\n",
      "    conda-4.8.3                |           py37_0         3.0 MB  anaconda\n",
      "    portaudio-19.6.0           |       he774522_4         240 KB  anaconda\n",
      "    pyaudio-0.2.11             |   py37he774522_2         189 KB  anaconda\n",
      "    ------------------------------------------------------------\n",
      "                                           Total:         3.5 MB\n",
      "\n",
      "The following NEW packages will be INSTALLED:\n",
      "\n",
      "  portaudio          anaconda/win-64::portaudio-19.6.0-he774522_4\n",
      "  pyaudio            anaconda/win-64::pyaudio-0.2.11-py37he774522_2\n",
      "\n",
      "The following packages will be UPDATED:\n",
      "\n",
      "  conda                       pkgs/main::conda-4.8.2-py37_0 --> anaconda::conda-4.8.3-py37_0\n",
      "\n",
      "\n",
      "\n",
      "Downloading and Extracting Packages\n",
      "\n",
      "conda-4.8.3          | 3.0 MB    |            |   0% \n",
      "conda-4.8.3          | 3.0 MB    |            |   1% \n",
      "conda-4.8.3          | 3.0 MB    | 1          |   2% \n",
      "conda-4.8.3          | 3.0 MB    | 2          |   3% \n",
      "conda-4.8.3          | 3.0 MB    | 3          |   4% \n",
      "conda-4.8.3          | 3.0 MB    | 4          |   5% \n",
      "conda-4.8.3          | 3.0 MB    | 5          |   6% \n",
      "conda-4.8.3          | 3.0 MB    | 6          |   7% \n",
      "conda-4.8.3          | 3.0 MB    | 7          |   8% \n",
      "conda-4.8.3          | 3.0 MB    | 8          |   9% \n",
      "conda-4.8.3          | 3.0 MB    | #          |  10% \n",
      "conda-4.8.3          | 3.0 MB    | #1         |  11% \n",
      "conda-4.8.3          | 3.0 MB    | #2         |  12% \n",
      "conda-4.8.3          | 3.0 MB    | #3         |  14% \n",
      "conda-4.8.3          | 3.0 MB    | #4         |  15% \n",
      "conda-4.8.3          | 3.0 MB    | #5         |  16% \n",
      "conda-4.8.3          | 3.0 MB    | #7         |  17% \n",
      "conda-4.8.3          | 3.0 MB    | #8         |  18% \n",
      "conda-4.8.3          | 3.0 MB    | #9         |  19% \n",
      "conda-4.8.3          | 3.0 MB    | ##         |  21% \n",
      "conda-4.8.3          | 3.0 MB    | ##1        |  22% \n",
      "conda-4.8.3          | 3.0 MB    | ##2        |  23% \n",
      "conda-4.8.3          | 3.0 MB    | ##3        |  24% \n",
      "conda-4.8.3          | 3.0 MB    | ##4        |  25% \n",
      "conda-4.8.3          | 3.0 MB    | ##5        |  26% \n",
      "conda-4.8.3          | 3.0 MB    | ##6        |  27% \n",
      "conda-4.8.3          | 3.0 MB    | ##7        |  28% \n",
      "conda-4.8.3          | 3.0 MB    | ##8        |  29% \n",
      "conda-4.8.3          | 3.0 MB    | ##9        |  30% \n",
      "conda-4.8.3          | 3.0 MB    | ###        |  31% \n",
      "conda-4.8.3          | 3.0 MB    | ###1       |  32% \n",
      "conda-4.8.3          | 3.0 MB    | ###2       |  33% \n",
      "conda-4.8.3          | 3.0 MB    | ###4       |  34% \n",
      "conda-4.8.3          | 3.0 MB    | ###5       |  36% \n",
      "conda-4.8.3          | 3.0 MB    | ###7       |  37% \n",
      "conda-4.8.3          | 3.0 MB    | ###8       |  38% \n",
      "conda-4.8.3          | 3.0 MB    | ###9       |  39% \n",
      "conda-4.8.3          | 3.0 MB    | ####       |  41% \n",
      "conda-4.8.3          | 3.0 MB    | ####2      |  42% \n",
      "conda-4.8.3          | 3.0 MB    | ####3      |  43% \n",
      "conda-4.8.3          | 3.0 MB    | ####4      |  45% \n",
      "conda-4.8.3          | 3.0 MB    | ####6      |  46% \n",
      "conda-4.8.3          | 3.0 MB    | ####7      |  47% \n",
      "conda-4.8.3          | 3.0 MB    | ####8      |  48% \n",
      "conda-4.8.3          | 3.0 MB    | ####9      |  49% \n",
      "conda-4.8.3          | 3.0 MB    | #####      |  50% \n",
      "conda-4.8.3          | 3.0 MB    | #####1     |  51% \n",
      "conda-4.8.3          | 3.0 MB    | #####2     |  53% \n",
      "conda-4.8.3          | 3.0 MB    | #####3     |  54% \n",
      "conda-4.8.3          | 3.0 MB    | #####4     |  55% \n",
      "conda-4.8.3          | 3.0 MB    | #####5     |  56% \n",
      "conda-4.8.3          | 3.0 MB    | #####6     |  57% \n",
      "conda-4.8.3          | 3.0 MB    | #####7     |  58% \n",
      "conda-4.8.3          | 3.0 MB    | #####9     |  60% \n",
      "conda-4.8.3          | 3.0 MB    | ######1    |  62% \n",
      "conda-4.8.3          | 3.0 MB    | ######3    |  63% \n",
      "conda-4.8.3          | 3.0 MB    | ######5    |  66% \n",
      "conda-4.8.3          | 3.0 MB    | ######7    |  67% \n",
      "conda-4.8.3          | 3.0 MB    | ######8    |  69% \n",
      "conda-4.8.3          | 3.0 MB    | ######9    |  70% \n",
      "conda-4.8.3          | 3.0 MB    | #######    |  71% \n",
      "conda-4.8.3          | 3.0 MB    | #######1   |  72% \n",
      "conda-4.8.3          | 3.0 MB    | #######2   |  73% \n",
      "conda-4.8.3          | 3.0 MB    | #######3   |  74% \n",
      "conda-4.8.3          | 3.0 MB    | #######4   |  75% \n",
      "conda-4.8.3          | 3.0 MB    | #######5   |  76% \n",
      "conda-4.8.3          | 3.0 MB    | #######6   |  77% \n",
      "conda-4.8.3          | 3.0 MB    | #######7   |  78% \n",
      "conda-4.8.3          | 3.0 MB    | #######8   |  79% \n",
      "conda-4.8.3          | 3.0 MB    | #######9   |  80% \n",
      "conda-4.8.3          | 3.0 MB    | ########1  |  81% \n",
      "conda-4.8.3          | 3.0 MB    | ########1  |  82% \n",
      "conda-4.8.3          | 3.0 MB    | ########4  |  84% \n",
      "conda-4.8.3          | 3.0 MB    | ########4  |  85% \n",
      "conda-4.8.3          | 3.0 MB    | ########6  |  87% \n",
      "conda-4.8.3          | 3.0 MB    | ########9  |  90% \n",
      "conda-4.8.3          | 3.0 MB    | #########1 |  91% \n",
      "conda-4.8.3          | 3.0 MB    | #########2 |  93% \n",
      "conda-4.8.3          | 3.0 MB    | #########4 |  94% \n",
      "conda-4.8.3          | 3.0 MB    | #########5 |  95% \n",
      "conda-4.8.3          | 3.0 MB    | #########6 |  96% \n",
      "conda-4.8.3          | 3.0 MB    | #########7 |  97% \n",
      "conda-4.8.3          | 3.0 MB    | #########8 |  98% \n",
      "conda-4.8.3          | 3.0 MB    | ########## | 100% \n",
      "\n",
      "portaudio-19.6.0     | 240 KB    |            |   0% \n",
      "portaudio-19.6.0     | 240 KB    | 6          |   7% \n",
      "portaudio-19.6.0     | 240 KB    | ##         |  20% \n",
      "portaudio-19.6.0     | 240 KB    | ##6        |  27% \n",
      "portaudio-19.6.0     | 240 KB    | ####       |  40% \n",
      "portaudio-19.6.0     | 240 KB    | ####6      |  47% \n",
      "portaudio-19.6.0     | 240 KB    | ######     |  60% \n",
      "portaudio-19.6.0     | 240 KB    | ######6    |  67% \n",
      "portaudio-19.6.0     | 240 KB    | ########   |  80% \n",
      "portaudio-19.6.0     | 240 KB    | #########3 |  93% \n",
      "portaudio-19.6.0     | 240 KB    | ########## | 100% \n",
      "\n",
      "pyaudio-0.2.11       | 189 KB    |            |   0% \n",
      "pyaudio-0.2.11       | 189 KB    | 8          |   8% \n",
      "pyaudio-0.2.11       | 189 KB    | ##5        |  25% \n",
      "pyaudio-0.2.11       | 189 KB    | ####2      |  42% \n",
      "pyaudio-0.2.11       | 189 KB    | #####9     |  59% \n",
      "pyaudio-0.2.11       | 189 KB    | #######6   |  76% \n",
      "pyaudio-0.2.11       | 189 KB    | #########3 |  93% \n",
      "pyaudio-0.2.11       | 189 KB    | ########## | 100% \n",
      "Preparing transaction: ...working... done\n",
      "Verifying transaction: ...working... done\n",
      "Executing transaction: ...working... done\n",
      "\n",
      "Note: you may need to restart the kernel to use updated packages.\n"
     ]
    },
    {
     "name": "stderr",
     "output_type": "stream",
     "text": [
      "\n",
      "\n",
      "==> WARNING: A newer version of conda exists. <==\n",
      "  current version: 4.8.2\n",
      "  latest version: 4.8.3\n",
      "\n",
      "Please update conda by running\n",
      "\n",
      "    $ conda update -n base -c defaults conda\n",
      "\n",
      "\n"
     ]
    }
   ],
   "source": [
    "conda install -c anaconda pyaudio"
   ]
  },
  {
   "cell_type": "code",
   "execution_count": 7,
   "metadata": {},
   "outputs": [
    {
     "name": "stdout",
     "output_type": "stream",
     "text": [
      "Collecting SpeechRecognition\n",
      "  Downloading SpeechRecognition-3.8.1-py2.py3-none-any.whl (32.8 MB)\n",
      "Installing collected packages: SpeechRecognition\n",
      "Successfully installed SpeechRecognition-3.8.1\n",
      "Note: you may need to restart the kernel to use updated packages.\n"
     ]
    }
   ],
   "source": [
    "pip install SpeechRecognition"
   ]
  },
  {
   "cell_type": "code",
   "execution_count": 4,
   "metadata": {},
   "outputs": [
    {
     "name": "stdout",
     "output_type": "stream",
     "text": [
      "Collecting gtts\n",
      "  Downloading gTTS-2.1.1-py3-none-any.whl (25 kB)\n",
      "Requirement already satisfied: click in c:\\users\\ashutosh\\anaconda3\\lib\\site-packages (from gtts) (7.0)\n",
      "Requirement already satisfied: beautifulsoup4 in c:\\users\\ashutosh\\anaconda3\\lib\\site-packages (from gtts) (4.8.2)\n",
      "Requirement already satisfied: requests in c:\\users\\ashutosh\\anaconda3\\lib\\site-packages (from gtts) (2.22.0)\n",
      "Collecting gtts-token>=1.1.3\n",
      "  Downloading gTTS-token-1.1.3.tar.gz (3.4 kB)\n",
      "Requirement already satisfied: six in c:\\users\\ashutosh\\anaconda3\\lib\\site-packages (from gtts) (1.14.0)\n",
      "Requirement already satisfied: soupsieve>=1.2 in c:\\users\\ashutosh\\anaconda3\\lib\\site-packages (from beautifulsoup4->gtts) (1.9.5)\n",
      "Requirement already satisfied: urllib3!=1.25.0,!=1.25.1,<1.26,>=1.21.1 in c:\\users\\ashutosh\\anaconda3\\lib\\site-packages (from requests->gtts) (1.25.8)\n",
      "Requirement already satisfied: certifi>=2017.4.17 in c:\\users\\ashutosh\\anaconda3\\lib\\site-packages (from requests->gtts) (2019.11.28)\n",
      "Requirement already satisfied: chardet<3.1.0,>=3.0.2 in c:\\users\\ashutosh\\anaconda3\\lib\\site-packages (from requests->gtts) (3.0.4)\n",
      "Requirement already satisfied: idna<2.9,>=2.5 in c:\\users\\ashutosh\\anaconda3\\lib\\site-packages (from requests->gtts) (2.8)\n",
      "Building wheels for collected packages: gtts-token\n",
      "  Building wheel for gtts-token (setup.py): started\n",
      "  Building wheel for gtts-token (setup.py): finished with status 'done'\n",
      "  Created wheel for gtts-token: filename=gTTS_token-1.1.3-py3-none-any.whl size=4100 sha256=1d9d44490b0f582a07810851f647df6cf9df4bc848df332bf8f086e79be0a51f\n",
      "  Stored in directory: c:\\users\\ashutosh\\appdata\\local\\pip\\cache\\wheels\\c1\\78\\25\\81270af5521d88ea8db7da5d4f64872673976eb9692bcb0c13\n",
      "Successfully built gtts-token\n",
      "Installing collected packages: gtts-token, gtts\n",
      "Successfully installed gtts-2.1.1 gtts-token-1.1.3\n",
      "Note: you may need to restart the kernel to use updated packages.\n"
     ]
    }
   ],
   "source": [
    "pip install gtts"
   ]
  },
  {
   "cell_type": "code",
   "execution_count": 3,
   "metadata": {},
   "outputs": [
    {
     "name": "stdout",
     "output_type": "stream",
     "text": [
      "Collecting googletrans\n",
      "  Downloading googletrans-3.0.0.tar.gz (17 kB)\n",
      "Collecting httpx==0.13.3\n",
      "  Downloading httpx-0.13.3-py3-none-any.whl (55 kB)\n",
      "Requirement already satisfied: idna==2.* in c:\\users\\ashutosh\\anaconda3\\lib\\site-packages (from httpx==0.13.3->googletrans) (2.8)\n",
      "Requirement already satisfied: certifi in c:\\users\\ashutosh\\anaconda3\\lib\\site-packages (from httpx==0.13.3->googletrans) (2019.11.28)\n",
      "Collecting hstspreload\n",
      "  Downloading hstspreload-2020.7.22-py3-none-any.whl (922 kB)\n",
      "Collecting rfc3986<2,>=1.3\n",
      "  Downloading rfc3986-1.4.0-py2.py3-none-any.whl (31 kB)\n",
      "Collecting sniffio\n",
      "  Downloading sniffio-1.1.0-py3-none-any.whl (4.5 kB)\n",
      "Requirement already satisfied: chardet==3.* in c:\\users\\ashutosh\\anaconda3\\lib\\site-packages (from httpx==0.13.3->googletrans) (3.0.4)\n",
      "Collecting httpcore==0.9.*\n",
      "  Downloading httpcore-0.9.1-py3-none-any.whl (42 kB)\n",
      "Collecting h2==3.*\n",
      "  Downloading h2-3.2.0-py2.py3-none-any.whl (65 kB)\n",
      "Collecting h11<0.10,>=0.8\n",
      "  Downloading h11-0.9.0-py2.py3-none-any.whl (53 kB)\n",
      "Collecting hyperframe<6,>=5.2.0\n",
      "  Downloading hyperframe-5.2.0-py2.py3-none-any.whl (12 kB)\n",
      "Collecting hpack<4,>=3.0\n",
      "  Downloading hpack-3.0.0-py2.py3-none-any.whl (38 kB)\n",
      "Building wheels for collected packages: googletrans\n",
      "  Building wheel for googletrans (setup.py): started\n",
      "  Building wheel for googletrans (setup.py): finished with status 'done'\n",
      "  Created wheel for googletrans: filename=googletrans-3.0.0-py3-none-any.whl size=15740 sha256=1eb4cc6aeea1afc1a310c3802c9e06ab7a7596eae6587419150d41c49c011e73\n",
      "  Stored in directory: c:\\users\\ashutosh\\appdata\\local\\pip\\cache\\wheels\\20\\da\\eb\\a54579056f265eede0417df537dd56d3df5b9eb2b25df0003d\n",
      "Successfully built googletrans\n",
      "Installing collected packages: hstspreload, rfc3986, sniffio, hyperframe, hpack, h2, h11, httpcore, httpx, googletrans\n",
      "Successfully installed googletrans-3.0.0 h11-0.9.0 h2-3.2.0 hpack-3.0.0 hstspreload-2020.7.22 httpcore-0.9.1 httpx-0.13.3 hyperframe-5.2.0 rfc3986-1.4.0 sniffio-1.1.0\n",
      "Note: you may need to restart the kernel to use updated packages.\n"
     ]
    }
   ],
   "source": [
    "pip install googletrans"
   ]
  },
  {
   "cell_type": "code",
   "execution_count": 10,
   "metadata": {},
   "outputs": [
    {
     "name": "stdout",
     "output_type": "stream",
     "text": [
      "Speak 'Hello' to initiate the Translation!\n",
      "----------------------------\n",
      "Speak a sentence...\n",
      "Phrase to be Tranlated: she is a girl and I am a boy\n"
     ]
    }
   ],
   "source": [
    "#Import Necessary Libraries\n",
    "import speech_recognition as spr\n",
    "from googletrans import Translator\n",
    "from gtts import gTTS\n",
    "import os\n",
    "\n",
    "#Create Recognizer() class objects called recog1 and recog2\n",
    "recog1 = spr.Recognizer()#recognizer class ki properties ab recog1 mai\n",
    "recog2 = spr.Recognizer()\n",
    "\n",
    "#Create microphone instance with device microphone chosen whose index value is 0\n",
    "mc = spr.Microphone(device_index=1)\n",
    "\n",
    "#Capture voice\n",
    "with mc as source:\n",
    "    print(\"Speak 'Hello' to initiate the Translation!\")\n",
    "    print(\"----------------------------\")\n",
    "    audio = recog1.listen(source)\n",
    "\n",
    "#Based on speech, tranlate the sentence into another language\n",
    "if 'hello' in recog1.recognize_google(audio):\n",
    "    recog1 = spr.Recognizer()\n",
    "    translator = Translator()\n",
    "    from_lang = 'en'\n",
    "    to_lang = 'hi'\n",
    "    with mc as source:\n",
    "        print('Speak a sentence...')\n",
    "        audio = recog2.listen(source)\n",
    "        get_sentence = recog2.recognize_google(audio)\n",
    "        \n",
    "        try:\n",
    "            get_sentence = recog2.recognize_google(audio)\n",
    "            print('Phrase to be Tranlated: '+ get_sentence)\n",
    "            text_to_translate = translator.translate(get_sentence, src = from_lang, dest = to_lang)\n",
    "            text = text_to_translate.text\n",
    "            speak = gTTS(text=text, lang = to_lang, slow = False)\n",
    "            speak.save(\"captured_voice.mp3\")\n",
    "            os.system(\"start captured_voice.mp3\")\n",
    "        except spr.UnknownValueError:\n",
    "            print(\"Unable to understand the input\")\n",
    "        except spr.RequestError as e:\n",
    "            print(\"Unable to provide required output\".format(e))"
   ]
  },
  {
   "cell_type": "code",
   "execution_count": 12,
   "metadata": {},
   "outputs": [
    {
     "name": "stdout",
     "output_type": "stream",
     "text": [
      "['Microsoft Sound Mapper - Input', 'Microphone Array (Realtek(R) Au', 'Microsoft Sound Mapper - Output', 'Speakers (Realtek(R) Audio)', 'Microphone Array 1 (Realtek HD Audio Mic input with SST)', 'Microphone Array 2 (Realtek HD Audio Mic input with SST)', 'Microphone Array 3 (Realtek HD Audio Mic input with SST)', 'Stereo Mix (Realtek HD Audio Stereo input)', 'Speakers 1 (Realtek HD Audio output with SST)', 'Speakers 2 (Realtek HD Audio output with SST)', 'PC Speaker (Realtek HD Audio output with SST)']\n"
     ]
    }
   ],
   "source": [
    "print(spr.Microphone.list_microphone_names())"
   ]
  },
  {
   "cell_type": "code",
   "execution_count": null,
   "metadata": {},
   "outputs": [],
   "source": []
  }
 ],
 "metadata": {
  "kernelspec": {
   "display_name": "Python 3",
   "language": "python",
   "name": "python3"
  },
  "language_info": {
   "codemirror_mode": {
    "name": "ipython",
    "version": 3
   },
   "file_extension": ".py",
   "mimetype": "text/x-python",
   "name": "python",
   "nbconvert_exporter": "python",
   "pygments_lexer": "ipython3",
   "version": "3.7.6"
  }
 },
 "nbformat": 4,
 "nbformat_minor": 4
}
